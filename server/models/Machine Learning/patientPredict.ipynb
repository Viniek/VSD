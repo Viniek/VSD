{
 "cells": [
  {
   "cell_type": "code",
   "execution_count": 4,
   "id": "916d6262-9b2c-4206-b243-6f3f2e09b04d",
   "metadata": {},
   "outputs": [
    {
     "ename": "ModuleNotFoundError",
     "evalue": "No module named 'flask_cors'",
     "output_type": "error",
     "traceback": [
      "\u001b[1;31m---------------------------------------------------------------------------\u001b[0m",
      "\u001b[1;31mModuleNotFoundError\u001b[0m                       Traceback (most recent call last)",
      "Cell \u001b[1;32mIn[4], line 2\u001b[0m\n\u001b[0;32m      1\u001b[0m \u001b[38;5;28;01mfrom\u001b[39;00m \u001b[38;5;21;01mflask\u001b[39;00m \u001b[38;5;28;01mimport\u001b[39;00m Flask, request, jsonify\n\u001b[1;32m----> 2\u001b[0m \u001b[38;5;28;01mfrom\u001b[39;00m \u001b[38;5;21;01mflask_cors\u001b[39;00m \u001b[38;5;28;01mimport\u001b[39;00m CORS\n\u001b[0;32m      3\u001b[0m \u001b[38;5;28;01mimport\u001b[39;00m \u001b[38;5;21;01mpandas\u001b[39;00m \u001b[38;5;28;01mas\u001b[39;00m \u001b[38;5;21;01mpd\u001b[39;00m\n\u001b[0;32m      4\u001b[0m \u001b[38;5;28;01mimport\u001b[39;00m \u001b[38;5;21;01mpickle\u001b[39;00m\n",
      "\u001b[1;31mModuleNotFoundError\u001b[0m: No module named 'flask_cors'"
     ]
    }
   ],
   "source": [
    "import pandas as pd\n",
    "from sklearn.model_selection import train_test_split\n",
    "from sklearn.tree import DecisionTreeClassifier\n",
    "from sklearn.ensemble import RandomForestClassifier\n",
    "from sklearn.metrics import accuracy_score\n",
    "\n",
    "# Load the extended dataset\n",
    "data = pd.read_csv('expanded_vsd_dataset.csv')\n",
    "\n",
    "# Cleaning Dataset\n",
    "## Missing Values\n",
    "data = data.dropna()\n",
    "\n",
    "## Categorical Columns\n",
    "categorical_columns = data.select_dtypes(include=['object']).columns\n",
    "data[categorical_columns] = data[categorical_columns].fillna('Unknown')\n",
    "\n",
    "## Numeric Columns\n",
    "numeric_columns = data.select_dtypes(include=['number']).columns\n",
    "data[numeric_columns] = data[numeric_columns].fillna(data[numeric_columns].mean())\n",
    "\n",
    "# Define features and labels for heart disease prediction\n",
    "X = data.drop(columns=['Has VSD', 'Other Condition', 'Severity'])\n",
    "y_vsd = data['Has VSD']                # Target for VSD detection\n",
    "y_condition = data['Other Condition']  # Target for other conditions\n",
    "y_severity = data['Severity']          # Target for VSD severity\n",
    "\n",
    "# One-hot encoding for categorical features\n",
    "X = pd.get_dummies(X, columns=['Cholesterol'], drop_first=True)\n",
    "\n",
    "# Split data into training and testing sets\n",
    "X_train, X_test, y_vsd_train, y_vsd_test = train_test_split(X, y_vsd, test_size=0.2, random_state=42)\n",
    "_, _, y_condition_train, y_condition_test = train_test_split(X, y_condition, test_size=0.2, random_state=42)\n",
    "_, _, y_severity_train, y_severity_test = train_test_split(X, y_severity, test_size=0.2, random_state=42)\n",
    "\n",
    "# Train Models\n",
    "## VSD Prediction\n",
    "vsd_model = DecisionTreeClassifier(random_state=42)\n",
    "vsd_model.fit(X_train, y_vsd_train)\n",
    "\n",
    "## Condition Prediction\n",
    "condition_model = RandomForestClassifier(random_state=42, n_estimators=100)\n",
    "condition_model.fit(X_train, y_condition_train)\n",
    "\n",
    "## Severity Prediction\n",
    "severity_model = RandomForestClassifier(random_state=42, n_estimators=100)\n",
    "severity_model.fit(X_train, y_severity_train)\n",
    "\n",
    "# Example patient data\n",
    "patient_data = [[170, 50.93, 110.15, 2.76, 99.59, 51.79, 76, 0, 0, 90, 75, 1, 1]]\n",
    "patient_df = pd.DataFrame(patient_data, columns=X.columns)  # Create a DataFrame with matching column names\n",
    "\n",
    "# Predict VSD\n",
    "vsd_prediction = vsd_model.predict(patient_df)[0]\n",
    "vsd_result = \"Has VSD\" if vsd_prediction == 1 else \"VSD absent\"\n",
    "print(f\"VSD Prediction: {vsd_result}\")\n",
    "\n",
    "# Predict Condition (if required)\n",
    "condition_prediction = condition_model.predict(patient_df)[0]\n",
    "print(f\"Condition Prediction: {condition_prediction}\")\n",
    "\n",
    "# Predict Severity\n",
    "severity_prediction = severity_model.predict(patient_df)[0]\n",
    "print(f\"Severity Prediction: {severity_prediction}\")\n",
    "\n",
    "# Accuracy Evaluation\n",
    "vsd_accuracy = accuracy_score(y_vsd_test, vsd_model.predict(X_test))\n",
    "severity_accuracy = accuracy_score(y_severity_test, severity_model.predict(X_test))\n",
    "\n",
    "print(f\"VSD Prediction Accuracy: {vsd_accuracy:.2f}\")\n",
    "print(f\"Severity Prediction Accuracy: {severity_accuracy:.2f}\")"
   ]
  },
  {
   "cell_type": "code",
   "execution_count": null,
   "id": "18df59b0-f03a-4641-830a-f0a40aa73452",
   "metadata": {},
   "outputs": [],
   "source": []
  },
  {
   "cell_type": "code",
   "execution_count": null,
   "id": "f5d99ca3-14e8-497f-8588-39597265c27e",
   "metadata": {},
   "outputs": [],
   "source": []
  },
  {
   "cell_type": "code",
   "execution_count": null,
   "id": "e24da3e1-b96c-476e-a11b-daadce52cf23",
   "metadata": {},
   "outputs": [],
   "source": []
  },
  {
   "cell_type": "code",
   "execution_count": null,
   "id": "d10fc2dd-3b51-429a-a555-e0d8cc293483",
   "metadata": {},
   "outputs": [],
   "source": []
  },
  {
   "cell_type": "code",
   "execution_count": null,
   "id": "c227cc92-aad6-45f6-ad3b-478fbca459fc",
   "metadata": {},
   "outputs": [],
   "source": []
  }
 ],
 "metadata": {
  "kernelspec": {
   "display_name": "Python 3 (ipykernel)",
   "language": "python",
   "name": "python3"
  },
  "language_info": {
   "codemirror_mode": {
    "name": "ipython",
    "version": 3
   },
   "file_extension": ".py",
   "mimetype": "text/x-python",
   "name": "python",
   "nbconvert_exporter": "python",
   "pygments_lexer": "ipython3",
   "version": "3.11.5"
  }
 },
 "nbformat": 4,
 "nbformat_minor": 5
}
